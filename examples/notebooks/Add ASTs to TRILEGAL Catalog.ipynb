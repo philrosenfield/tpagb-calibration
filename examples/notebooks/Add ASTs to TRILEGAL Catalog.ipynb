{
 "cells": [
  {
   "cell_type": "markdown",
   "metadata": {},
   "source": [
    "### View the options for add_asts"
   ]
  },
  {
   "cell_type": "code",
   "execution_count": 1,
   "metadata": {
    "collapsed": false
   },
   "outputs": [
    {
     "name": "stdout",
     "output_type": "stream",
     "text": [
      "/Users/rosenfield/anaconda/lib/python3.5/site-packages/matplotlib/__init__.py:913: UserWarning: axes.color_cycle is deprecated and replaced with axes.prop_cycle; please use the latter.\n",
      "  warnings.warn(self.msg_depr % (key, alt_key))\n",
      "usage: add_asts.py [-h] [-v] [-o OUTFILE] [-f FAKE] filters name\n",
      "\n",
      "Cull useful info from trilegal catalog\n",
      "\n",
      "positional arguments:\n",
      "  filters               comma separated list of filters in trilegal catalog\n",
      "  name                  trilegal catalog\n",
      "\n",
      "optional arguments:\n",
      "  -h, --help            show this help message and exit\n",
      "  -v, --verbose         verbose mode\n",
      "  -o OUTFILE, --outfile OUTFILE\n",
      "                        outfile name\n",
      "  -f FAKE, --fake FAKE  fake file name\n"
     ]
    }
   ],
   "source": [
    "! python -m tpagb_calibration.analysis.add_asts -h"
   ]
  },
  {
   "cell_type": "markdown",
   "metadata": {},
   "source": [
    "### Run add_asts on a trilegal catalog"
   ]
  },
  {
   "cell_type": "markdown",
   "metadata": {},
   "source": [
    "Sepecify output file"
   ]
  },
  {
   "cell_type": "code",
   "execution_count": 2,
   "metadata": {
    "collapsed": false
   },
   "outputs": [
    {
     "name": "stdout",
     "output_type": "stream",
     "text": [
      "/Users/rosenfield/anaconda/lib/python3.5/site-packages/matplotlib/__init__.py:913: UserWarning: axes.color_cycle is deprecated and replaced with axes.prop_cycle; please use the latter.\n",
      "  warnings.warn(self.msg_depr % (key, alt_key))\n",
      "INFO:__main__:working on ../data/test_tricat.fits\n",
      "\u001b[0;33mWARNING\u001b[0m: VerifyWarning: It is strongly recommended that column names contain only upper and lower-case ASCII letters, digits, or underscores for maximum compatibility with other software (got '[M/H]'). [astropy.io.fits.column]\n",
      "WARNING:astropy:VerifyWarning: It is strongly recommended that column names contain only upper and lower-case ASCII letters, digits, or underscores for maximum compatibility with other software (got '[M/H]').\n",
      "INFO:tpagb_calibration.pop_synth.asts:adding corrections for filter1 filter2 filter3 filter4\n"
     ]
    }
   ],
   "source": [
    "! python -m tpagb_calibration.analysis.add_asts \"F555W,F435W,F475W,J\" ../data/test_tricat.fits -f ../data/region_23_17.optirq1.matchfake -o ../data/test_tricat_cor.fits "
   ]
  },
  {
   "cell_type": "code",
   "execution_count": 3,
   "metadata": {
    "collapsed": false
   },
   "outputs": [
    {
     "name": "stdout",
     "output_type": "stream",
     "text": [
      "../data/test_tricat_cor.fits\r\n"
     ]
    }
   ],
   "source": [
    "! ls -tr ../data/test_tricat_cor.fits"
   ]
  },
  {
   "cell_type": "markdown",
   "metadata": {},
   "source": [
    "If you do not specify an output file, the code will add columns to the trilegal catalog."
   ]
  },
  {
   "cell_type": "markdown",
   "metadata": {},
   "source": [
    "### Verify the (new) columns"
   ]
  },
  {
   "cell_type": "code",
   "execution_count": 4,
   "metadata": {
    "collapsed": false
   },
   "outputs": [
    {
     "name": "stdout",
     "output_type": "stream",
     "text": [
      "ColDefs(\n",
      "    name = 'Gc'; format = 'K'\n",
      "    name = 'logAge'; format = 'D'\n",
      "    name = '[M/H]'; format = 'D'\n",
      "    name = 'm_ini'; format = 'D'\n",
      "    name = 'logL'; format = 'D'\n",
      "    name = 'logTe'; format = 'D'\n",
      "    name = 'logg'; format = 'D'\n",
      "    name = 'm-M0'; format = 'D'\n",
      "    name = 'Av'; format = 'K'\n",
      "    name = 'm2/m1'; format = 'K'\n",
      "    name = 'mbol'; format = 'D'\n",
      "    name = 'F435W'; format = 'D'\n",
      "    name = 'F475W'; format = 'D'\n",
      "    name = 'F555W'; format = 'D'\n",
      "    name = 'F606W'; format = 'D'\n",
      "    name = 'F814W'; format = 'D'\n",
      "    name = 'F606W2'; format = 'D'\n",
      "    name = 'F814W2'; format = 'D'\n",
      "    name = 'F110W'; format = 'D'\n",
      "    name = 'F160W'; format = 'D'\n",
      "    name = 'J'; format = 'D'\n",
      "    name = 'H'; format = 'D'\n",
      "    name = 'Ks'; format = 'D'\n",
      "    name = 'Mcore'; format = 'D'\n",
      "    name = 'C/O'; format = 'D'\n",
      "    name = 'Per'; format = 'D'\n",
      "    name = 'mode'; format = 'K'\n",
      "    name = 'logML'; format = 'D'\n",
      "    name = 'Mact'; format = 'D'\n",
      "    name = 'stage'; format = 'K'\n",
      "    name = 'F606W_cor'; format = 'D'\n",
      "    name = 'F814W_cor'; format = 'D'\n",
      "    name = 'F110W_cor'; format = 'D'\n",
      "    name = 'F160W_cor'; format = 'D'\n",
      "    name = 'F555W_cor'; format = 'D'\n",
      "    name = 'F435W_cor'; format = 'D'\n",
      "    name = 'F475W_cor'; format = 'D'\n",
      "    name = 'J_cor'; format = 'D'\n",
      ")\n"
     ]
    },
    {
     "name": "stderr",
     "output_type": "stream",
     "text": [
      "WARNING: VerifyWarning: It is strongly recommended that column names contain only upper and lower-case ASCII letters, digits, or underscores for maximum compatibility with other software (got '[M/H]'). [astropy.io.fits.column]\n"
     ]
    }
   ],
   "source": [
    "from astropy.io import fits\n",
    "hdu = fits.open('../data/test_tricat_cor.fits')\n",
    "print(hdu[1].data.columns)"
   ]
  },
  {
   "cell_type": "markdown",
   "metadata": {},
   "source": [
    "### Note: will not apply corrections twice"
   ]
  },
  {
   "cell_type": "code",
   "execution_count": 5,
   "metadata": {
    "collapsed": false
   },
   "outputs": [
    {
     "name": "stdout",
     "output_type": "stream",
     "text": [
      "/Users/rosenfield/anaconda/lib/python3.5/site-packages/matplotlib/__init__.py:913: UserWarning: axes.color_cycle is deprecated and replaced with axes.prop_cycle; please use the latter.\n",
      "  warnings.warn(self.msg_depr % (key, alt_key))\n",
      "INFO:__main__:working on ../data/test_tricat_cor.fits\n",
      "\u001b[0;33mWARNING\u001b[0m: VerifyWarning: It is strongly recommended that column names contain only upper and lower-case ASCII letters, digits, or underscores for maximum compatibility with other software (got '[M/H]'). [astropy.io.fits.column]\n",
      "WARNING:astropy:VerifyWarning: It is strongly recommended that column names contain only upper and lower-case ASCII letters, digits, or underscores for maximum compatibility with other software (got '[M/H]').\n",
      "INFO:tpagb_calibration.pop_synth.asts:no corrections to add\n"
     ]
    }
   ],
   "source": [
    "! python -m tpagb_calibration.analysis.add_asts \"F555W,F435W,F475W,J\" ../data/test_tricat_cor.fits -f ../data/region_23_17.optirq1.matchfake "
   ]
  },
  {
   "cell_type": "markdown",
   "metadata": {},
   "source": [
    "### Reset example"
   ]
  },
  {
   "cell_type": "code",
   "execution_count": 6,
   "metadata": {
    "collapsed": false
   },
   "outputs": [],
   "source": [
    "! rm ../data/test_tricat_cor.fits \n",
    "! cp ../data/test_tricat.fits.bk ../data/test_tricat.fits\n",
    "! rm add_asts.log"
   ]
  },
  {
   "cell_type": "code",
   "execution_count": null,
   "metadata": {
    "collapsed": true
   },
   "outputs": [],
   "source": []
  }
 ],
 "metadata": {
  "kernelspec": {
   "display_name": "Python [default]",
   "language": "python",
   "name": "python3"
  },
  "language_info": {
   "codemirror_mode": {
    "name": "ipython",
    "version": 3
   },
   "file_extension": ".py",
   "mimetype": "text/x-python",
   "name": "python",
   "nbconvert_exporter": "python",
   "pygments_lexer": "ipython3",
   "version": "3.5.2"
  }
 },
 "nbformat": 4,
 "nbformat_minor": 2
}
