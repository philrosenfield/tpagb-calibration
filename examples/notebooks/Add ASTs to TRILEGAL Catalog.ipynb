{
 "cells": [
  {
   "cell_type": "markdown",
   "metadata": {},
   "source": [
    "### View the options for add_asts"
   ]
  },
  {
   "cell_type": "code",
   "execution_count": 1,
   "metadata": {
    "collapsed": false
   },
   "outputs": [
    {
     "name": "stdout",
     "output_type": "stream",
     "text": [
      "/Users/rosenfield/anaconda/lib/python3.5/site-packages/matplotlib/__init__.py:913: UserWarning: axes.color_cycle is deprecated and replaced with axes.prop_cycle; please use the latter.\n",
      "  warnings.warn(self.msg_depr % (key, alt_key))\n",
      "usage: add_asts.py [-h] [-v] [-o OUTFILE] [-f FAKE] [-s FILTERSET]\n",
      "                   filters name\n",
      "\n",
      "Cull useful info from trilegal catalog\n",
      "\n",
      "positional arguments:\n",
      "  filters               comma separated list of filters in trilegal catalog\n",
      "  name                  trilegal catalog\n",
      "\n",
      "optional arguments:\n",
      "  -h, --help            show this help message and exit\n",
      "  -v, --verbose         verbose mode\n",
      "  -o OUTFILE, --outfile OUTFILE\n",
      "                        outfile name\n",
      "  -f FAKE, --fake FAKE  fake file name\n",
      "  -s FILTERSET, --filterset FILTERSET\n",
      "                        if 2 filters, and the fake file has 4, provide which\n",
      "                        filters to use 0: first two or 1: second two\n"
     ]
    }
   ],
   "source": [
    "! python -m tpagb_calibration.analysis.add_asts -h"
   ]
  },
  {
   "cell_type": "markdown",
   "metadata": {},
   "source": [
    "### Run add_asts on a trilegal catalog"
   ]
  },
  {
   "cell_type": "markdown",
   "metadata": {},
   "source": [
    "Sepecify output file"
   ]
  },
  {
   "cell_type": "code",
   "execution_count": 7,
   "metadata": {
    "collapsed": false
   },
   "outputs": [
    {
     "name": "stdout",
     "output_type": "stream",
     "text": [
      "/Users/rosenfield/anaconda/lib/python3.5/site-packages/matplotlib/__init__.py:913: UserWarning: axes.color_cycle is deprecated and replaced with axes.prop_cycle; please use the latter.\n",
      "  warnings.warn(self.msg_depr % (key, alt_key))\n",
      "INFO:__main__:working on ../data/test_tricat.fits\n",
      "INFO:tpagb_calibration.pop_synth.asts:adding corrections for filter3 filter4\n"
     ]
    }
   ],
   "source": [
    "! python -m tpagb_calibration.analysis.add_asts \"F110Wmag,F160Wmag\" ../data/test_tricat.fits -f ../data/region_23_17.optirq1.matchfake -o ../data/test_tricat_cor.fits  -s 1"
   ]
  },
  {
   "cell_type": "code",
   "execution_count": 3,
   "metadata": {
    "collapsed": false
   },
   "outputs": [
    {
     "name": "stdout",
     "output_type": "stream",
     "text": [
      "../data/test_tricat_cor.fits\r\n"
     ]
    }
   ],
   "source": [
    "! ls -tr ../data/test_tricat_cor.fits"
   ]
  },
  {
   "cell_type": "markdown",
   "metadata": {},
   "source": [
    "If you do not specify an output file, the code will add columns to the trilegal catalog."
   ]
  },
  {
   "cell_type": "markdown",
   "metadata": {},
   "source": [
    "### Verify the (new) columns"
   ]
  },
  {
   "cell_type": "code",
   "execution_count": 4,
   "metadata": {
    "collapsed": false
   },
   "outputs": [
    {
     "name": "stdout",
     "output_type": "stream",
     "text": [
      "ColDefs(\n",
      "    name = 'Gc'; format = 'I'\n",
      "    name = 'logAge'; format = 'E'\n",
      "    name = 'M_H'; format = 'E'\n",
      "    name = 'm_ini'; format = 'E'\n",
      "    name = 'mu0'; format = 'E'\n",
      "    name = 'Av'; format = 'E'\n",
      "    name = 'mratio'; format = 'E'\n",
      "    name = 'Mass'; format = 'E'\n",
      "    name = 'logL'; format = 'E'\n",
      "    name = 'logTe'; format = 'E'\n",
      "    name = 'logg'; format = 'E'\n",
      "    name = 'label'; format = 'I'\n",
      "    name = 'McoreTP'; format = 'E'\n",
      "    name = 'C_O'; format = 'E'\n",
      "    name = 'period0'; format = 'E'\n",
      "    name = 'period1'; format = 'E'\n",
      "    name = 'pmode'; format = 'I'\n",
      "    name = 'Mloss'; format = 'E'\n",
      "    name = 'tau1m'; format = 'E'\n",
      "    name = 'X'; format = 'E'\n",
      "    name = 'Y'; format = 'E'\n",
      "    name = 'Xc'; format = 'E'\n",
      "    name = 'Xn'; format = 'E'\n",
      "    name = 'Xo'; format = 'E'\n",
      "    name = 'Cexcess'; format = 'E'\n",
      "    name = 'Z'; format = 'E'\n",
      "    name = 'mbolmag'; format = 'E'\n",
      "    name = 'F475Wmag'; format = 'E'\n",
      "    name = 'F814Wmag'; format = 'E'\n",
      "    name = 'F110Wmag'; format = 'E'\n",
      "    name = 'F160Wmag'; format = 'E'\n",
      "    name = 'F110Wmag_cor'; format = 'D'\n",
      "    name = 'F160Wmag_cor'; format = 'D'\n",
      ")\n"
     ]
    }
   ],
   "source": [
    "from astropy.io import fits\n",
    "hdu = fits.open('../data/test_tricat_cor.fits')\n",
    "print(hdu[1].data.columns)"
   ]
  },
  {
   "cell_type": "markdown",
   "metadata": {},
   "source": [
    "### Note: will not apply corrections twice"
   ]
  },
  {
   "cell_type": "code",
   "execution_count": 5,
   "metadata": {
    "collapsed": false
   },
   "outputs": [
    {
     "name": "stdout",
     "output_type": "stream",
     "text": [
      "/Users/rosenfield/anaconda/lib/python3.5/site-packages/matplotlib/__init__.py:913: UserWarning: axes.color_cycle is deprecated and replaced with axes.prop_cycle; please use the latter.\n",
      "  warnings.warn(self.msg_depr % (key, alt_key))\n",
      "INFO:__main__:working on ../data/test_tricat_cor.fits\n",
      "INFO:tpagb_calibration.pop_synth.asts:no corrections to add\n"
     ]
    }
   ],
   "source": [
    "! python -m tpagb_calibration.analysis.add_asts \"F110Wmag,F160Wmag\" ../data/test_tricat_cor.fits -f ../data/region_23_17.optirq1.matchfake -o ../data/test_tricat_cor.fits  -s 1"
   ]
  },
  {
   "cell_type": "markdown",
   "metadata": {},
   "source": [
    "### Reset example"
   ]
  },
  {
   "cell_type": "code",
   "execution_count": 6,
   "metadata": {
    "collapsed": false
   },
   "outputs": [],
   "source": [
    "! rm ../data/test_tricat_cor.fits \n",
    "! cp ../data/test_tricat.fits.bk ../data/test_tricat.fits\n",
    "! rm add_asts.log"
   ]
  },
  {
   "cell_type": "code",
   "execution_count": null,
   "metadata": {
    "collapsed": true
   },
   "outputs": [],
   "source": []
  }
 ],
 "metadata": {
  "kernelspec": {
   "display_name": "Python [default]",
   "language": "python",
   "name": "python3"
  },
  "language_info": {
   "codemirror_mode": {
    "name": "ipython",
    "version": 3
   },
   "file_extension": ".py",
   "mimetype": "text/x-python",
   "name": "python",
   "nbconvert_exporter": "python",
   "pygments_lexer": "ipython3",
   "version": "3.5.2"
  }
 },
 "nbformat": 4,
 "nbformat_minor": 2
}
