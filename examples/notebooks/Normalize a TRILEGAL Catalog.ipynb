{
 "cells": [
  {
   "cell_type": "code",
   "execution_count": 3,
   "metadata": {
    "collapsed": false
   },
   "outputs": [
    {
     "name": "stdout",
     "output_type": "stream",
     "text": [
      "/Users/rosenfield/anaconda/lib/python3.5/site-packages/matplotlib/__init__.py:913: UserWarning: axes.color_cycle is deprecated and replaced with axes.prop_cycle; please use the latter.\n",
      "  warnings.warn(self.msg_depr % (key, alt_key))\n",
      "usage: normalize.py [-h] [-a] [-b COMP_FRAC] [-c COLORLIMITS] [-d]\n",
      "                    [-e TRGBEXCLUDE] [-f FAKE] [-g TRGBOFFSET] [-m MAGLIMITS]\n",
      "                    [-n NORM] [-o OUTPUT] [-q COLNAMES] [--filters FILTERS]\n",
      "                    [-s FILTERSET] [-t TRGB] [-v AV] [-y YFILTER]\n",
      "                    [-z MATCH_PARAM] [--observation OBSERVATION]\n",
      "                    [--simpop SIMPOP]\n",
      "\n",
      "Scale trilegal catalog to a CMD region of that data.\n",
      "\n",
      "To define the CMD region, set colorlimits (optional) and mag limits.\n",
      "\n",
      "For the mag limits either:\n",
      "   a) directly set maglimits\n",
      "   b) set the trgb (or if ANGST, will try to find it), trgboffset, and trgbexclude.\n",
      "   c) set fake_file to a matchfake file and a completeness to a fraction\n",
      "      completeness and it will choose the fainter between the two.\n",
      "   d) you can also include the match param file to apply exclude regions\n",
      "      (only makes sense if the filters are the same in calcsfh and here)\n",
      "\n",
      "optional arguments:\n",
      "  -h, --help            show this help message and exit\n",
      "  -a, --ast_cor         use ast corrected mags already in trilegal catalog\n",
      "  -b COMP_FRAC, --comp_frac COMP_FRAC\n",
      "                        use the completeness fraction for the lower maglimit (need AST file)\n",
      "  -c COLORLIMITS, --colorlimits COLORLIMITS\n",
      "                        comma separated color min, color max or color min and color offset (color max = color min + color offset) for normalization region\n",
      "  -d, --diag            make cmd diagnostic plot of the normalization\n",
      "  -e TRGBEXCLUDE, --trgbexclude TRGBEXCLUDE\n",
      "                        region around trgb mag to also exclude\n",
      "  -f FAKE, --fake FAKE  fake file name\n",
      "  -g TRGBOFFSET, --trgboffset TRGBOFFSET\n",
      "                        trgb offset, mags below trgb for lower maglimit\n",
      "  -m MAGLIMITS, --maglimits MAGLIMITS\n",
      "                        comma separated faint and bright yaxis mag limits\n",
      "  -n NORM, --norm NORM  override finding normalization constant with this fraction\n",
      "  -o OUTPUT, --output OUTPUT\n",
      "                        create a trilegal catalog with only normalized selection\n",
      "  -q COLNAMES, --colnames COLNAMES\n",
      "                        comma separated V,I names in observation data\n",
      "  --filters FILTERS     comma separated V,I names in trilegal catalog\n",
      "  -s FILTERSET, --filterset FILTERSET\n",
      "                        if 2 filters, and the fake file has 4, provide which filters to use 0: first two or 1: second two\n",
      "  -t TRGB, --trgb TRGB  trgb mag (will not attempt to find it)\n",
      "  -v AV, --Av AV        visual extinction\n",
      "  -y YFILTER, --yfilter YFILTER\n",
      "                        V or I filter to use as y axis of CMD [V untested!]\n",
      "  -z MATCH_PARAM, --match_param MATCH_PARAM\n",
      "                        overplot exclude gates from calcsfh parameter file\n",
      "  --observation OBSERVATION\n",
      "                        photometry to normalize against\n",
      "  --simpop SIMPOP       trilegal catalog to normalize\n"
     ]
    }
   ],
   "source": [
    "! python -m tpagb_calibration.analysis.normalize -h"
   ]
  },
  {
   "cell_type": "markdown",
   "metadata": {},
   "source": [
    "### Prepare input file\n",
    "With so many parameters, it is easier to write them in an input file."
   ]
  },
  {
   "cell_type": "code",
   "execution_count": 4,
   "metadata": {
    "collapsed": false
   },
   "outputs": [
    {
     "name": "stdout",
     "output_type": "stream",
     "text": [
      "--diag\r\n",
      "--ast_cor\r\n",
      "--filters\r\n",
      "F110Wmag,F160Wmag\r\n",
      "--trgb\r\n",
      "18.\r\n",
      "--Av\r\n",
      "0.206\r\n",
      "--colorlimits\r\n",
      "0.5,1\r\n",
      "--trgbexclude\r\n",
      "0.15\r\n",
      "--trgboffset\r\n",
      "2.\r\n",
      "--filterset\r\n",
      "1\r\n",
      "--output\r\n",
      "test_tricat_cor_norm.fits\r\n",
      "--simpop\r\n",
      "test_tricat_cor.fits\r\n",
      "--observation\r\n",
      "region_23_17.optirq2.matchin\r\n"
     ]
    }
   ],
   "source": [
    "! cat ../data/normalize.inp"
   ]
  },
  {
   "cell_type": "code",
   "execution_count": 11,
   "metadata": {
    "collapsed": false
   },
   "outputs": [
    {
     "name": "stdout",
     "output_type": "stream",
     "text": [
      "/Users/rosenfield/anaconda/lib/python3.5/site-packages/matplotlib/__init__.py:913: UserWarning: axes.color_cycle is deprecated and replaced with axes.prop_cycle; please use the latter.\n",
      "  warnings.warn(self.msg_depr % (key, alt_key))\n",
      "DEBUG:__main__:command: None\n",
      "INFO:tpagb_calibration.analysis.analyze:filter1: F110WMAG filter2: F160WMAG\n",
      "INFO:tpagb_calibration.analysis.analyze:faint mag limit for rgb norm set to trgb + offset\n",
      "INFO:tpagb_calibration.analysis.analyze:regions: {'col_min': 0.5, 'offset': 2.0, 'col_max': 1.0, 'mag_bright': 18.15, 'mag_faint': 20.0, 'trgb_exclude': 0.15, 'trgb': 18.0}\n",
      "DEBUG:__main__:normalizing: ../data/test_tricat_cor.fits\n",
      "INFO:tpagb_calibration.pop_synth.stellar_pops:Normalization: 0.000104\n"
     ]
    }
   ],
   "source": [
    "! python -m tpagb_calibration.analysis.normalize @../data/normalize.inp "
   ]
  },
  {
   "cell_type": "code",
   "execution_count": null,
   "metadata": {
    "collapsed": true
   },
   "outputs": [],
   "source": []
  }
 ],
 "metadata": {
  "kernelspec": {
   "display_name": "Python [default]",
   "language": "python",
   "name": "python3"
  },
  "language_info": {
   "codemirror_mode": {
    "name": "ipython",
    "version": 3
   },
   "file_extension": ".py",
   "mimetype": "text/x-python",
   "name": "python",
   "nbconvert_exporter": "python",
   "pygments_lexer": "ipython3",
   "version": "3.5.2"
  }
 },
 "nbformat": 4,
 "nbformat_minor": 2
}
